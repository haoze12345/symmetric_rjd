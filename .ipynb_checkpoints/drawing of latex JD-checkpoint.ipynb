{
 "cells": [
  {
   "cell_type": "code",
   "execution_count": 6,
   "id": "dcc0d57a",
   "metadata": {},
   "outputs": [
    {
     "name": "stdout",
     "output_type": "stream",
     "text": [
      "\\draw [very thick] (0.8+0.4,-3.8+0.4) rectangle (2.0+0.4,-2.6+0.4);\n",
      "    \\filldraw [fill=brightgreen!10!white,draw=green!40!black] (0.8+0.4,-3.8+0.4) rectangle (2.0+0.4,-2.6+0.4);\n",
      "    \\draw [step=0.4/2, very thin, color=gray] (0.8+0.4,-3.8+0.4) grid (2.0+0.4,-2.6+0.4);\n",
      "    \n",
      "\\draw [very thick] (0.7000000000000001+0.4,-3.9+0.4) rectangle (1.9+0.4,-2.7+0.4);\n",
      "    \\filldraw [fill=brightgreen!20!white,draw=green!40!black] (0.7000000000000001+0.4,-3.9+0.4) rectangle (1.9+0.4,-2.7+0.4);\n",
      "    \\draw [step=0.4/2, very thin, color=gray] (0.7000000000000001+0.4,-3.9+0.4) grid (1.9+0.4,-2.7+0.4);\n",
      "    \n",
      "\\draw [very thick] (0.6000000000000001+0.4,-4.0+0.4) rectangle (1.8+0.4,-2.8000000000000003+0.4);\n",
      "    \\filldraw [fill=brightgreen!30!white,draw=green!40!black] (0.6000000000000001+0.4,-4.0+0.4) rectangle (1.8+0.4,-2.8000000000000003+0.4);\n",
      "    \\draw [step=0.4/2, very thin, color=gray] (0.6000000000000001+0.4,-4.0+0.4) grid (1.8+0.4,-2.8000000000000003+0.4);\n",
      "    \n",
      "\\draw [very thick] (0.5+0.4,-4.1+0.4) rectangle (1.7+0.4,-2.9000000000000004+0.4);\n",
      "    \\filldraw [fill=brightgreen!40!white,draw=green!40!black] (0.5+0.4,-4.1+0.4) rectangle (1.7+0.4,-2.9000000000000004+0.4);\n",
      "    \\draw [step=0.4/2, very thin, color=gray] (0.5+0.4,-4.1+0.4) grid (1.7+0.4,-2.9000000000000004+0.4);\n",
      "    \n",
      "\\draw [very thick] (0.4+0.4,-4.2+0.4) rectangle (1.6+0.4,-3.0+0.4);\n",
      "    \\filldraw [fill=brightgreen!50!white,draw=green!40!black] (0.4+0.4,-4.2+0.4) rectangle (1.6+0.4,-3.0+0.4);\n",
      "    \\draw [step=0.4/2, very thin, color=gray] (0.4+0.4,-4.2+0.4) grid (1.6+0.4,-3.0+0.4);\n",
      "    \n"
     ]
    }
   ],
   "source": [
    "def single_matrix(x1,y1,x2,y2,k):\n",
    "    s = '''\\draw [very thick] ({x1}+0.4,{y1}+0.4) rectangle ({x2}+0.4,{y2}+0.4);\n",
    "    \\\\filldraw [fill=brightgreen!{k}!white,draw=green!40!black] ({x1}+0.4,{y1}+0.4) rectangle ({x2}+0.4,{y2}+0.4);\n",
    "    \\draw [step=0.4/2, very thin, color=gray] ({x1}+0.4,{y1}+0.4) grid ({x2}+0.4,{y2}+0.4);\n",
    "    '''\n",
    "    print(s.format(x1 = str(x1),y1 = str(y1),x2 = str(x2),y2 = str(y2), k = str(k)))\n",
    "def matrices(x1,y1,x2,y2):\n",
    "    for i in range(5):\n",
    "        single_matrix(x1-0.1 * i,y1-0.1*i,x2-0.1*i,y2-0.1*i, 10 * (i+1))\n",
    "matrices(0.8,-3.8,2,-2.6)"
   ]
  },
  {
   "cell_type": "code",
   "execution_count": 8,
   "id": "4ba43666",
   "metadata": {},
   "outputs": [
    {
     "name": "stdout",
     "output_type": "stream",
     "text": [
      "\\draw [very thick] (4.4+0.4,-3.8+0.4) rectangle (5.6+0.4,-2.6+0.4);\n",
      "    \\filldraw [fill=brightgreen!10!white,draw=green!40!black] (4.4+0.4,-3.8+0.4) rectangle (5.6+0.4,-2.6+0.4);\n",
      "    \\draw [step=0.4/2, very thin, color=gray] (4.4+0.4,-3.8+0.4) grid (5.6+0.4,-2.6+0.4);\n",
      "    \n",
      "\\draw [very thick] (4.300000000000001+0.4,-3.9+0.4) rectangle (5.5+0.4,-2.7+0.4);\n",
      "    \\filldraw [fill=brightgreen!20!white,draw=green!40!black] (4.300000000000001+0.4,-3.9+0.4) rectangle (5.5+0.4,-2.7+0.4);\n",
      "    \\draw [step=0.4/2, very thin, color=gray] (4.300000000000001+0.4,-3.9+0.4) grid (5.5+0.4,-2.7+0.4);\n",
      "    \n",
      "\\draw [very thick] (4.2+0.4,-4.0+0.4) rectangle (5.3999999999999995+0.4,-2.8000000000000003+0.4);\n",
      "    \\filldraw [fill=brightgreen!30!white,draw=green!40!black] (4.2+0.4,-4.0+0.4) rectangle (5.3999999999999995+0.4,-2.8000000000000003+0.4);\n",
      "    \\draw [step=0.4/2, very thin, color=gray] (4.2+0.4,-4.0+0.4) grid (5.3999999999999995+0.4,-2.8000000000000003+0.4);\n",
      "    \n",
      "\\draw [very thick] (4.1000000000000005+0.4,-4.1+0.4) rectangle (5.3+0.4,-2.9000000000000004+0.4);\n",
      "    \\filldraw [fill=brightgreen!40!white,draw=green!40!black] (4.1000000000000005+0.4,-4.1+0.4) rectangle (5.3+0.4,-2.9000000000000004+0.4);\n",
      "    \\draw [step=0.4/2, very thin, color=gray] (4.1000000000000005+0.4,-4.1+0.4) grid (5.3+0.4,-2.9000000000000004+0.4);\n",
      "    \n",
      "\\draw [very thick] (4.0+0.4,-4.2+0.4) rectangle (5.199999999999999+0.4,-3.0+0.4);\n",
      "    \\filldraw [fill=brightgreen!50!white,draw=green!40!black] (4.0+0.4,-4.2+0.4) rectangle (5.199999999999999+0.4,-3.0+0.4);\n",
      "    \\draw [step=0.4/2, very thin, color=gray] (4.0+0.4,-4.2+0.4) grid (5.199999999999999+0.4,-3.0+0.4);\n",
      "    \n"
     ]
    }
   ],
   "source": [
    "matrices(4.4,-3.8, 5.6, -2.6)"
   ]
  },
  {
   "cell_type": "code",
   "execution_count": 95,
   "id": "b1149ce6",
   "metadata": {},
   "outputs": [],
   "source": [
    "def diagonal_matrix(x1,y1,x2,y2, k):\n",
    "    num_blocks = int ((x2-x1) // 0.2) + 1\n",
    "    block = '''\\\\fill[brightgreen!{k}!white] ({x1} +0.4,{y1} +0.4) rectangle ({x2}+0.4,{y2}+0.4);\n",
    "    '''\n",
    "    s = '''\\draw [thick] ({x1}+0.4,{y1}+0.4) rectangle ({x2}+0.4,{y2}+0.4);\n",
    "    \\\\filldraw [fill=white, opacity=0.5] ({x1}+0.4,{y1}+0.4) rectangle ({x2}+0.4,{y2}+0.4);\n",
    "    \\draw [step=0.4/2, line width=0mm, color=gray] ({x1}+0.4,{y1}+0.4) grid ({x2}+0.4,{y2}+0.4);\n",
    "    '''\n",
    "    s = s.format(x1 = str(x1),y1 = str(y1),x2 = str(x2),y2 = str(y2))\n",
    "    for i in range(num_blocks):\n",
    "        x1_block = x1+0.2*i\n",
    "        x2_block = x1_block +0.2\n",
    "        y1_block = y2 - 0.2*(i+1)\n",
    "        y2_block = y1_block + 0.2\n",
    "        s+=block.format(x1 = str(x1_block), x2 = str(x2_block), y1 = str(y1_block), y2 = str(y2_block), k = str(k))\n",
    "    print(s)\n",
    "def diagonal_matrices(x1,y1,x2,y2):\n",
    "    for i in range(5):\n",
    "        diagonal_matrix(x1-0.1 * i,y1-0.1*i,x2-0.1*i,y2-0.1*i, 10 * (i+1) + 10)\n"
   ]
  },
  {
   "cell_type": "code",
   "execution_count": 96,
   "id": "d7b0f0a1",
   "metadata": {},
   "outputs": [
    {
     "name": "stdout",
     "output_type": "stream",
     "text": [
      "\\draw [thick] (4.4+0.4,-3.8+0.4) rectangle (5.6+0.4,-2.6+0.4);\n",
      "    \\filldraw [fill=white, opacity=0.5] (4.4+0.4,-3.8+0.4) rectangle (5.6+0.4,-2.6+0.4);\n",
      "    \\draw [step=0.4/2, line width=0mm, color=gray] (4.4+0.4,-3.8+0.4) grid (5.6+0.4,-2.6+0.4);\n",
      "    \\fill[brightgreen!20!white] (4.4 +0.4,-2.8000000000000003 +0.4) rectangle (4.6000000000000005+0.4,-2.6+0.4);\n",
      "    \\fill[brightgreen!20!white] (4.6000000000000005 +0.4,-3.0 +0.4) rectangle (4.800000000000001+0.4,-2.8+0.4);\n",
      "    \\fill[brightgreen!20!white] (4.800000000000001 +0.4,-3.2 +0.4) rectangle (5.000000000000001+0.4,-3.0+0.4);\n",
      "    \\fill[brightgreen!20!white] (5.0 +0.4,-3.4000000000000004 +0.4) rectangle (5.2+0.4,-3.2+0.4);\n",
      "    \\fill[brightgreen!20!white] (5.2 +0.4,-3.6 +0.4) rectangle (5.4+0.4,-3.4+0.4);\n",
      "    \\fill[brightgreen!20!white] (5.4 +0.4,-3.8000000000000003 +0.4) rectangle (5.6000000000000005+0.4,-3.6+0.4);\n",
      "    \n",
      "\\draw [thick] (4.300000000000001+0.4,-3.9+0.4) rectangle (5.5+0.4,-2.7+0.4);\n",
      "    \\filldraw [fill=white, opacity=0.5] (4.300000000000001+0.4,-3.9+0.4) rectangle (5.5+0.4,-2.7+0.4);\n",
      "    \\draw [step=0.4/2, line width=0mm, color=gray] (4.300000000000001+0.4,-3.9+0.4) grid (5.5+0.4,-2.7+0.4);\n",
      "    \\fill[brightgreen!30!white] (4.300000000000001 +0.4,-2.9000000000000004 +0.4) rectangle (4.500000000000001+0.4,-2.7+0.4);\n",
      "    \\fill[brightgreen!30!white] (4.500000000000001 +0.4,-3.1 +0.4) rectangle (4.700000000000001+0.4,-2.9+0.4);\n",
      "    \\fill[brightgreen!30!white] (4.700000000000001 +0.4,-3.3000000000000003 +0.4) rectangle (4.900000000000001+0.4,-3.1+0.4);\n",
      "    \\fill[brightgreen!30!white] (4.9 +0.4,-3.5 +0.4) rectangle (5.1000000000000005+0.4,-3.3+0.4);\n",
      "    \\fill[brightgreen!30!white] (5.1000000000000005 +0.4,-3.7 +0.4) rectangle (5.300000000000001+0.4,-3.5+0.4);\n",
      "    \\fill[brightgreen!30!white] (5.300000000000001 +0.4,-3.9000000000000004 +0.4) rectangle (5.500000000000001+0.4,-3.7+0.4);\n",
      "    \n",
      "\\draw [thick] (4.2+0.4,-4.0+0.4) rectangle (5.3999999999999995+0.4,-2.8000000000000003+0.4);\n",
      "    \\filldraw [fill=white, opacity=0.5] (4.2+0.4,-4.0+0.4) rectangle (5.3999999999999995+0.4,-2.8000000000000003+0.4);\n",
      "    \\draw [step=0.4/2, line width=0mm, color=gray] (4.2+0.4,-4.0+0.4) grid (5.3999999999999995+0.4,-2.8000000000000003+0.4);\n",
      "    \\fill[brightgreen!40!white] (4.2 +0.4,-3.0000000000000004 +0.4) rectangle (4.4+0.4,-2.8000000000000003+0.4);\n",
      "    \\fill[brightgreen!40!white] (4.4 +0.4,-3.2 +0.4) rectangle (4.6000000000000005+0.4,-3.0+0.4);\n",
      "    \\fill[brightgreen!40!white] (4.6000000000000005 +0.4,-3.4000000000000004 +0.4) rectangle (4.800000000000001+0.4,-3.2+0.4);\n",
      "    \\fill[brightgreen!40!white] (4.800000000000001 +0.4,-3.6000000000000005 +0.4) rectangle (5.000000000000001+0.4,-3.4000000000000004+0.4);\n",
      "    \\fill[brightgreen!40!white] (5.0 +0.4,-3.8000000000000003 +0.4) rectangle (5.2+0.4,-3.6+0.4);\n",
      "    \\fill[brightgreen!40!white] (5.2 +0.4,-4.0 +0.4) rectangle (5.4+0.4,-3.8+0.4);\n",
      "    \n",
      "\\draw [thick] (4.1000000000000005+0.4,-4.1+0.4) rectangle (5.3+0.4,-2.9000000000000004+0.4);\n",
      "    \\filldraw [fill=white, opacity=0.5] (4.1000000000000005+0.4,-4.1+0.4) rectangle (5.3+0.4,-2.9000000000000004+0.4);\n",
      "    \\draw [step=0.4/2, line width=0mm, color=gray] (4.1000000000000005+0.4,-4.1+0.4) grid (5.3+0.4,-2.9000000000000004+0.4);\n",
      "    \\fill[brightgreen!50!white] (4.1000000000000005 +0.4,-3.1000000000000005 +0.4) rectangle (4.300000000000001+0.4,-2.9000000000000004+0.4);\n",
      "    \\fill[brightgreen!50!white] (4.300000000000001 +0.4,-3.3000000000000003 +0.4) rectangle (4.500000000000001+0.4,-3.1+0.4);\n",
      "    \\fill[brightgreen!50!white] (4.500000000000001 +0.4,-3.5000000000000004 +0.4) rectangle (4.700000000000001+0.4,-3.3000000000000003+0.4);\n",
      "    \\fill[brightgreen!50!white] (4.700000000000001 +0.4,-3.7 +0.4) rectangle (4.900000000000001+0.4,-3.5+0.4);\n",
      "    \\fill[brightgreen!50!white] (4.9 +0.4,-3.9000000000000004 +0.4) rectangle (5.1000000000000005+0.4,-3.7+0.4);\n",
      "    \\fill[brightgreen!50!white] (5.1000000000000005 +0.4,-4.1000000000000005 +0.4) rectangle (5.300000000000001+0.4,-3.9000000000000004+0.4);\n",
      "    \n",
      "\\draw [thick] (4.0+0.4,-4.2+0.4) rectangle (5.199999999999999+0.4,-3.0+0.4);\n",
      "    \\filldraw [fill=white, opacity=0.5] (4.0+0.4,-4.2+0.4) rectangle (5.199999999999999+0.4,-3.0+0.4);\n",
      "    \\draw [step=0.4/2, line width=0mm, color=gray] (4.0+0.4,-4.2+0.4) grid (5.199999999999999+0.4,-3.0+0.4);\n",
      "    \\fill[brightgreen!60!white] (4.0 +0.4,-3.2 +0.4) rectangle (4.2+0.4,-3.0+0.4);\n",
      "    \\fill[brightgreen!60!white] (4.2 +0.4,-3.4 +0.4) rectangle (4.4+0.4,-3.1999999999999997+0.4);\n",
      "    \\fill[brightgreen!60!white] (4.4 +0.4,-3.6 +0.4) rectangle (4.6000000000000005+0.4,-3.4+0.4);\n",
      "    \\fill[brightgreen!60!white] (4.6 +0.4,-3.8 +0.4) rectangle (4.8+0.4,-3.5999999999999996+0.4);\n",
      "    \\fill[brightgreen!60!white] (4.8 +0.4,-4.0 +0.4) rectangle (5.0+0.4,-3.8+0.4);\n",
      "    \\fill[brightgreen!60!white] (5.0 +0.4,-4.2 +0.4) rectangle (5.2+0.4,-4.0+0.4);\n",
      "    \n"
     ]
    }
   ],
   "source": [
    "diagonal_matrices(4.4,-3.8, 5.6, -2.6)"
   ]
  },
  {
   "cell_type": "code",
   "execution_count": 88,
   "id": "a163a467",
   "metadata": {},
   "outputs": [],
   "source": [
    "def draw_diagonalizer(x1,y1,x2,y2,x3,y3,x4,y4):\n",
    "    s = '''\n",
    "    \\draw [very thick] ({x1},{y1}) -- ({x2},{y2}) -- ({x3},{y3}) -- ({x4}, {y4}) -- ({x1},{y1});\n",
    "    \\\\filldraw [fill=Cerulean!20!white,draw=green!40!black] ({x1},{y1}) -- ({x2},{y2}) -- ({x3},{y3}) -- ({x4}, {y4}) -- ({x1},{y1});\n",
    "    '''\n",
    "    s = s.format(x1 = str(x1),x2 = str(x2), x3 = str(x3), x4 = str(x4) ,y1 = str(y1),y2 = str(y2), y3 = str(y3), y4 = str(y4))\n",
    "    blocks = int((abs(x3-x1) / 0.1))\n",
    "    for i in range(1,blocks+1):\n",
    "        line = '''\n",
    "            \\draw[line width = 0mm, color = gray] ({x1},{y1}) -- ({x2},{y2});\n",
    "        '''\n",
    "        x1_line = x1 \n",
    "        y1_line = y1 + 0.2 * i\n",
    "        y2_line = y4 + 0.2 * i \n",
    "        x2_line = x3\n",
    "        line = line.format(x1 = str(x1_line), x2 = str(x2_line), y1 = str(y1_line),y2 = str(y2_line))\n",
    "        s+=line\n",
    "    for i in range(1,blocks+1):\n",
    "        line = '''\n",
    "            \\draw[line width = 0mm, color = gray] ({x1},{y1}) -- ({x2},{y2});\n",
    "        '''\n",
    "        x1_line = x1 + 0.1 * i\n",
    "        x2_line = x2 + 0.1 * i\n",
    "        y1_line = y1 + 0.1 * i\n",
    "        y2_line = y2 + 0.1 * i \n",
    "        line = line.format(x1 = str(x1_line), x2 = str(x2_line), y1 = str(y1_line),y2 = str(y2_line))\n",
    "        s+=line\n",
    "    print(s)"
   ]
  },
  {
   "cell_type": "code",
   "execution_count": 89,
   "id": "8155a502",
   "metadata": {},
   "outputs": [
    {
     "name": "stdout",
     "output_type": "stream",
     "text": [
      "\n",
      "    \\draw [very thick] (2.5,-3.9) -- (2.5,-2.7) -- (3.1,-2.1) -- (3.1, -3.3) -- (2.5,-3.9);\n",
      "    \\filldraw [fill=Cerulean!20!white,draw=green!40!black] (2.5,-3.9) -- (2.5,-2.7) -- (3.1,-2.1) -- (3.1, -3.3) -- (2.5,-3.9);\n",
      "    \n",
      "            \\draw[line width = 0mm, color = gray] (2.5,-3.6999999999999997) -- (3.1,-3.0999999999999996);\n",
      "        \n",
      "            \\draw[line width = 0mm, color = gray] (2.5,-3.5) -- (3.1,-2.9);\n",
      "        \n",
      "            \\draw[line width = 0mm, color = gray] (2.5,-3.3) -- (3.1,-2.6999999999999997);\n",
      "        \n",
      "            \\draw[line width = 0mm, color = gray] (2.5,-3.0999999999999996) -- (3.1,-2.5);\n",
      "        \n",
      "            \\draw[line width = 0mm, color = gray] (2.5,-2.9) -- (3.1,-2.3);\n",
      "        \n",
      "            \\draw[line width = 0mm, color = gray] (2.5,-2.6999999999999997) -- (3.1,-2.0999999999999996);\n",
      "        \n",
      "            \\draw[line width = 0mm, color = gray] (2.6,-3.8) -- (2.6,-2.6);\n",
      "        \n",
      "            \\draw[line width = 0mm, color = gray] (2.7,-3.6999999999999997) -- (2.7,-2.5);\n",
      "        \n",
      "            \\draw[line width = 0mm, color = gray] (2.8,-3.5999999999999996) -- (2.8,-2.4000000000000004);\n",
      "        \n",
      "            \\draw[line width = 0mm, color = gray] (2.9,-3.5) -- (2.9,-2.3000000000000003);\n",
      "        \n",
      "            \\draw[line width = 0mm, color = gray] (3.0,-3.4) -- (3.0,-2.2);\n",
      "        \n",
      "            \\draw[line width = 0mm, color = gray] (3.1,-3.3) -- (3.1,-2.1);\n",
      "        \n"
     ]
    }
   ],
   "source": [
    "draw_diagonalizer(2.5, -3.9, 2.5,-2.7, 3.1,-2.1, 3.1,-3.3)"
   ]
  },
  {
   "cell_type": "code",
   "execution_count": 90,
   "id": "811038d4",
   "metadata": {},
   "outputs": [
    {
     "name": "stdout",
     "output_type": "stream",
     "text": [
      "\n",
      "    \\draw [very thick] (0.1,-3.9) -- (0.1,-2.7) -- (0.7,-2.1) -- (0.7, -3.3) -- (0.1,-3.9);\n",
      "    \\filldraw [fill=Cerulean!20!white,draw=green!40!black] (0.1,-3.9) -- (0.1,-2.7) -- (0.7,-2.1) -- (0.7, -3.3) -- (0.1,-3.9);\n",
      "    \n",
      "            \\draw[line width = 0mm, color = gray] (0.1,-3.6999999999999997) -- (0.7,-3.0999999999999996);\n",
      "        \n",
      "            \\draw[line width = 0mm, color = gray] (0.1,-3.5) -- (0.7,-2.9);\n",
      "        \n",
      "            \\draw[line width = 0mm, color = gray] (0.1,-3.3) -- (0.7,-2.6999999999999997);\n",
      "        \n",
      "            \\draw[line width = 0mm, color = gray] (0.1,-3.0999999999999996) -- (0.7,-2.5);\n",
      "        \n",
      "            \\draw[line width = 0mm, color = gray] (0.1,-2.9) -- (0.7,-2.3);\n",
      "        \n",
      "            \\draw[line width = 0mm, color = gray] (0.2,-3.8) -- (0.2,-2.6);\n",
      "        \n",
      "            \\draw[line width = 0mm, color = gray] (0.30000000000000004,-3.6999999999999997) -- (0.30000000000000004,-2.5);\n",
      "        \n",
      "            \\draw[line width = 0mm, color = gray] (0.4,-3.5999999999999996) -- (0.4,-2.4000000000000004);\n",
      "        \n",
      "            \\draw[line width = 0mm, color = gray] (0.5,-3.5) -- (0.5,-2.3000000000000003);\n",
      "        \n",
      "            \\draw[line width = 0mm, color = gray] (0.6,-3.4) -- (0.6,-2.2);\n",
      "        \n"
     ]
    }
   ],
   "source": [
    "draw_diagonalizer(0.1, -3.9, 0.1,-2.7, 0.7,-2.1, 0.7,-3.3)"
   ]
  },
  {
   "cell_type": "code",
   "execution_count": null,
   "id": "22814c15",
   "metadata": {},
   "outputs": [],
   "source": []
  }
 ],
 "metadata": {
  "kernelspec": {
   "display_name": "Python 3 (ipykernel)",
   "language": "python",
   "name": "python3"
  },
  "language_info": {
   "codemirror_mode": {
    "name": "ipython",
    "version": 3
   },
   "file_extension": ".py",
   "mimetype": "text/x-python",
   "name": "python",
   "nbconvert_exporter": "python",
   "pygments_lexer": "ipython3",
   "version": "3.8.2"
  }
 },
 "nbformat": 4,
 "nbformat_minor": 5
}
