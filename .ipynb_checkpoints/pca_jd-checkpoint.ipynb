{
 "cells": [
  {
   "cell_type": "code",
   "execution_count": 1,
   "id": "ecb63162",
   "metadata": {},
   "outputs": [],
   "source": [
    "from time import time\n",
    "import numpy as np\n",
    "from other_jd_algorithms import *\n",
    "from rjd import *"
   ]
  },
  {
   "cell_type": "code",
   "execution_count": 2,
   "id": "e0ab90a4",
   "metadata": {},
   "outputs": [],
   "source": [
    "import numpy as np\n",
    "import matplotlib.pyplot as plt\n",
    "import math\n",
    "from sklearn.decomposition import PCA\n",
    "from experiments_util import *"
   ]
  },
  {
   "cell_type": "code",
   "execution_count": 51,
   "id": "0d34c189",
   "metadata": {},
   "outputs": [],
   "source": [
    "n = 2\n",
    "p = 10\n",
    "diagonals = np.random.uniform(size=(n, p))\n",
    "A = np.random.randn(p, p)\n",
    "Q, R = np.linalg.qr(A)# mixing matrix\n",
    "C = np.array([Q.dot(d[:, None] * Q.T) for d in diagonals])  # dataset\n",
    "test_array = random_error(C,1e-10)"
   ]
  },
  {
   "cell_type": "code",
   "execution_count": 56,
   "id": "49c1f0bf",
   "metadata": {},
   "outputs": [
    {
     "name": "stdout",
     "output_type": "stream",
     "text": [
      "9.145035103860565e-10\n",
      "[[0.08717026 0.29955245]\n",
      " [0.1679207  0.23154575]\n",
      " [0.46213207 0.50393036]\n",
      " [0.41410629 0.05825148]\n",
      " [0.82049012 0.44174977]\n",
      " [0.8338035  0.45028637]\n",
      " [0.77360268 0.20710773]\n",
      " [0.66365184 0.05769023]\n",
      " [0.67748412 0.02200554]\n",
      " [0.9369283  0.06627607]]\n",
      "[-0.99790852  0.06464205] 1.0\n",
      "4.310949830895013e-10\n"
     ]
    }
   ],
   "source": [
    "mu = np.random.normal(0,1,n)\n",
    "mu = mu / np.linalg.norm(mu)\n",
    "A_mu = np.einsum('ijk,i->jk',test_array, mu)\n",
    "_, Q = np.linalg.eigh(A_mu)\n",
    "error = math.sqrt(offdiagonal_frobenius_square(Q.T @ test_array @ Q))\n",
    "print(error)\n",
    "eigen_vals = Q.T @ test_array @ Q\n",
    "diagonals = np.array([ np.diag(diagonal) for diagonal in Q.T @ test_array @ Q]).T\n",
    "print(diagonals)\n",
    "X = diagonals\n",
    "pca=PCA(1)\n",
    "pca.fit(X)\n",
    "mu_best = pca.components_[0]\n",
    "print(A_mu)\n",
    "print(mu_best,  np.linalg.norm(mu_best))\n",
    "A_mu = np.einsum('ijk,i->jk',test_array, mu_best)\n",
    "_, Q = np.linalg.eigh(A_mu)\n",
    "error = math.sqrt(offdiagonal_frobenius_square(Q.T @ test_array @ Q))\n",
    "print(error)"
   ]
  },
  {
   "cell_type": "code",
   "execution_count": null,
   "id": "d6feee01",
   "metadata": {},
   "outputs": [],
   "source": []
  }
 ],
 "metadata": {
  "kernelspec": {
   "display_name": "Python 3 (ipykernel)",
   "language": "python",
   "name": "python3"
  },
  "language_info": {
   "codemirror_mode": {
    "name": "ipython",
    "version": 3
   },
   "file_extension": ".py",
   "mimetype": "text/x-python",
   "name": "python",
   "nbconvert_exporter": "python",
   "pygments_lexer": "ipython3",
   "version": "3.8.2"
  }
 },
 "nbformat": 4,
 "nbformat_minor": 5
}
