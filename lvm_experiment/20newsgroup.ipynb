{
 "cells": [
  {
   "cell_type": "markdown",
   "id": "88432f3d",
   "metadata": {},
   "source": [
    "## Retrive Tensor Data for Learning"
   ]
  },
  {
   "cell_type": "code",
   "execution_count": null,
   "id": "724a8925",
   "metadata": {},
   "outputs": [],
   "source": [
    "import numpy as np\n",
    "from sklearn.datasets import fetch_20newsgroups\n",
    "cats =  ['sci.med',\n",
    "         'sci.space',\n",
    "         'talk.politics.guns',\n",
    "         'alt.atheism',]\n",
    "newsgroups_train = fetch_20newsgroups(subset='train',remove=('headers', 'footers', 'quotes'),categories=cats)\n",
    "from sklearn.feature_extraction.text import CountVectorizer\n",
    "count_vect = CountVectorizer(max_features = 1000,analyzer='word', ngram_range=(1, 1),\\\n",
    "                             stop_words='english',max_df = 0.8)\n",
    "X_train_counts = count_vect.fit_transform(newsgroups_train.data)\n",
    "X_train_counts = np.array(X_train_counts.todense())\n",
    "X = np.array(X_train_counts)\n",
    "M1,M2,M3, Whiten = RetrieveTensorsST(X_train_counts, k=len(cats))"
   ]
  },
  {
   "cell_type": "code",
   "execution_count": 129,
   "id": "675de203",
   "metadata": {},
   "outputs": [],
   "source": [
    "np.save(\"M1_4_medspacegunath\",M1)\n",
    "np.save(\"M2_4_medspacegunath\",M2)\n",
    "np.save(\"M3_4_medspacegunath\",M3)\n",
    "np.save(\"Whiten_4_medspacegunath\",Whiten)"
   ]
  },
  {
   "cell_type": "code",
   "execution_count": 3,
   "id": "45dd1616",
   "metadata": {},
   "outputs": [
    {
     "name": "stdout",
     "output_type": "stream",
     "text": [
      "(1000,)\n"
     ]
    }
   ],
   "source": [
    "M1 = np.load(\"M1_4_medspacegunath.npy\")\n",
    "M2 = np.load(\"M2_4_medspacegunath.npy\")\n",
    "M3 = np.load(\"M3_4_medspacegunath.npy\")\n",
    "Whiten = np.load(\"Whiten_4_medspacegunath.npy\")\n",
    "print(M1.shape)"
   ]
  },
  {
   "cell_type": "markdown",
   "id": "a905e0ae",
   "metadata": {},
   "source": [
    "# Comparison with SVTD on Tensor Data"
   ]
  },
  {
   "cell_type": "code",
   "execution_count": 4,
   "id": "49c780d5",
   "metadata": {},
   "outputs": [],
   "source": [
    "word2id = count_vect.vocabulary_"
   ]
  },
  {
   "cell_type": "code",
   "execution_count": 16,
   "id": "47d24c26",
   "metadata": {},
   "outputs": [
    {
     "name": "stdout",
     "output_type": "stream",
     "text": [
      "\\begin{table}[!hbt!]\n",
      "\\begin{center}\n",
      "\\caption{20NewsGroup - Runtime and Coherence for Single Topic Model}\n",
      "\\begin{tabular}{||c | c | c | |}\n",
      "\\hline\n",
      "Algorithm Name & Avg Runtime(ms) & Avg Coherence\\\\\n",
      "\\hline\n",
      "DRJD & $\\num{3.998115}$ & $\\num{-196.973950}$\\\\\n",
      "\\hline\n",
      "SVTD & $\\num{45.869329}$ & $\\num{-193.988781}$\\\\\n",
      "\\hline\n",
      "TPM & $\\num{298.112507}$ & $\\num{-198.812939}$\\\\\n",
      "\\hline\n",
      "\\end{tabular}\n",
      "\\end{center}\n",
      "\\end{table}\n"
     ]
    }
   ],
   "source": [
    "from lvm_util import *\n",
    "k = 4\n",
    "top = 15\n",
    "from time import time\n",
    "coherence_dict_list = {\n",
    "             \"SVTD\":[],\n",
    "             \"TPM\":[],\n",
    "            \"DRJD\":[],\n",
    "}\n",
    "time_dict_list = {\n",
    "             \"SVTD\":[],\n",
    "             \"TPM\":[],\n",
    "            \"DRJD\":[],\n",
    "}\n",
    "tries = 100\n",
    "for i in range(tries):\n",
    "    start= time()\n",
    "    M_rjd_de, omega_rjd_de = learn_LVM_RJD(M1, M2, M3, Whiten, k, N=3)\n",
    "    time_dict_list['DRJD'].append(time() - start)\n",
    "    coherence_dict_list['DRJD'].append(coherence(X, M_rjd_de, l = top))\n",
    "    \n",
    "    \n",
    "    start = time()\n",
    "    M_svtd, omega_svtd = learn_LVM_SVTD(M1, M2, M3, Whiten, k)\n",
    "    time_dict_list['SVTD'].append(time() - start)\n",
    "    coherence_dict_list['SVTD'].append(coherence(X, M_svtd, l = top))\n",
    "\n",
    "    start = time()\n",
    "    M_tpm, omega_tpm = learn_LVM_Tensor14(M2, M3, Whiten, k)\n",
    "    time_dict_list['TPM'].append(time() - start)\n",
    "    coherence_dict_list['TPM'].append(coherence(X, M_tpm, l = top))\n",
    "def print_time_error(name, time,error, bold = False):\n",
    "    if not bold:\n",
    "        output_str = name + \" & \" + \"$\\\\num{%f}$\" + \" & \" + \"$\\\\num{%f}$\" + \"\\\\\\\\\\n\" + \"\\hline\"\n",
    "    else:\n",
    "        output_str = \"{\\\\bf \" + name + \"}\" + \" & \" + \"$\\\\num{%f}$\" + \" & \" + \"$\\\\num{%f}$\" + \"\\\\\\\\\\n\" + \"\\hline\"\n",
    "    print(output_str % (time, error))\n",
    "\n",
    "def make_table(time_dict, md_dict):\n",
    "    title_str = \"\\\\begin{table}[!hbt!]\\n\" + \"\\\\begin{center}\\n\" + \\\n",
    "                    \"\\\\caption{20NewsGroup - Runtime and Coherence for Single Topic Model\" \\\n",
    "                +\"}\\n\" +\"\\\\begin{tabular}{||c | c | c | |}\\n\" + \"\\\\hline\\n\"\n",
    "    title_str += \"Algorithm Name & Avg Runtime(ms) & Avg Coherence\\\\\\\\\\n\" + \"\\\\hline\"\n",
    "    print(title_str)\n",
    "    for algo in time_dict.keys():\n",
    "        print_time_error(algo,time_dict[algo],md_dict[algo])\n",
    "    closing_str = \"\\\\end{tabular}\\n\" + \"\\\\end{center}\\n\" + \\\n",
    "        \"\\\\end{table}\"\n",
    "    print(closing_str)\n",
    "coherence_dict = {key: np.mean(value) for key,value in coherence_dict_list.items()}\n",
    "time_dict = {key: 1000 * np.mean(value) for key,value in time_dict_list.items()}\n",
    "make_table(time_dict, coherence_dict)"
   ]
  },
  {
   "cell_type": "markdown",
   "id": "ed880f4d",
   "metadata": {},
   "source": [
    "# Show top words in topics for different methods"
   ]
  },
  {
   "cell_type": "code",
   "execution_count": 17,
   "id": "e79d6214",
   "metadata": {},
   "outputs": [],
   "source": [
    "word2id = count_vect.vocabulary_\n",
    "#print(word2id)\n",
    "id2word = {value:key for key,value in word2id.items()}\n",
    "#print(id2word)"
   ]
  },
  {
   "cell_type": "code",
   "execution_count": 18,
   "id": "58ceb061",
   "metadata": {},
   "outputs": [
    {
     "name": "stdout",
     "output_type": "stream",
     "text": [
      "\\begin{center}\n",
      "\n",
      "\\begin{tabular}{|c|c|c|c|c|c|}\n",
      "\\hline\n",
      "god & space & health & file\\\\\n",
      "jesus & launch & hiv & gun\\\\\n",
      "people & nasa & 1993 & congress\\\\\n",
      "atheists & satellite & use & control\\\\\n",
      "atheism & edu & medical & firearms\\\\\n",
      "does & data & 10 & mr\\\\\n",
      "matthew & commercial & number & states\\\\\n",
      "religious & satellites & 20 & united\\\\\n",
      "just & year & aids & rkba\\\\\n",
      "believe & market & april & house\\\\\n",
      "\\hline\n",
      "\\end{tabular}\n",
      "\n",
      "\\begin{tabular}{|c|c|c|c|c|c|}\n",
      "\\hline\n",
      "\\\\\n",
      "\\\\\n",
      "\\\\\n",
      "\\\\\n",
      "\\\\\n",
      "\\\\\n",
      "\\\\\n",
      "\\\\\n",
      "\\\\\n",
      "\\\\\n",
      "\\hline\n",
      "\\end{tabular}\n",
      "\n",
      "\\begin{tabular}{|c|c|c|c|c|c|}\n",
      "\\hline\n",
      "\\\\\n",
      "\\\\\n",
      "\\\\\n",
      "\\\\\n",
      "\\\\\n",
      "\\\\\n",
      "\\\\\n",
      "\\\\\n",
      "\\\\\n",
      "\\\\\n",
      "\\hline\n",
      "\\end{tabular}\n",
      "\n",
      "\\begin{tabular}{|c|c|c|c|c|c|}\n",
      "\\hline\n",
      "\\\\\n",
      "\\\\\n",
      "\\\\\n",
      "\\\\\n",
      "\\\\\n",
      "\\\\\n",
      "\\\\\n",
      "\\\\\n",
      "\\\\\n",
      "\\\\\n",
      "\\hline\n",
      "\\end{tabular}\n",
      "\n",
      "\\end{center}\n",
      "[['god' 'space' 'health' 'file']\n",
      " ['jesus' 'launch' 'hiv' 'gun']\n",
      " ['people' 'nasa' '1993' 'congress']\n",
      " ['atheists' 'satellite' 'use' 'control']\n",
      " ['atheism' 'edu' 'medical' 'firearms']\n",
      " ['does' 'data' '10' 'mr']\n",
      " ['matthew' 'commercial' 'number' 'states']\n",
      " ['religious' 'satellites' '20' 'united']\n",
      " ['just' 'year' 'aids' 'rkba']\n",
      " ['believe' 'market' 'april' 'house']]\n"
     ]
    }
   ],
   "source": [
    "print_top_words_table(M_rjd_de, omega_rjd_de,10,4, id2word)"
   ]
  },
  {
   "cell_type": "code",
   "execution_count": 19,
   "id": "08235bb0",
   "metadata": {},
   "outputs": [
    {
     "name": "stdout",
     "output_type": "stream",
     "text": [
      "\\begin{center}\n",
      "\n",
      "\\begin{tabular}{|c|c|c|c|c|c|}\n",
      "\\hline\n",
      "jesus & space & health & file\\\\\n",
      "god & launch & hiv & gun\\\\\n",
      "atheists & satellite & 1993 & congress\\\\\n",
      "atheism & commercial & use & control\\\\\n",
      "people & market & medical & firearms\\\\\n",
      "matthew & satellites & 10 & mr\\\\\n",
      "religious & data & aids & states\\\\\n",
      "religion & year & number & united\\\\\n",
      "does & nasa & 20 & rkba\\\\\n",
      "believe & new & april & house\\\\\n",
      "\\hline\n",
      "\\end{tabular}\n",
      "\n",
      "\\begin{tabular}{|c|c|c|c|c|c|}\n",
      "\\hline\n",
      "\\\\\n",
      "\\\\\n",
      "\\\\\n",
      "\\\\\n",
      "\\\\\n",
      "\\\\\n",
      "\\\\\n",
      "\\\\\n",
      "\\\\\n",
      "\\\\\n",
      "\\hline\n",
      "\\end{tabular}\n",
      "\n",
      "\\begin{tabular}{|c|c|c|c|c|c|}\n",
      "\\hline\n",
      "\\\\\n",
      "\\\\\n",
      "\\\\\n",
      "\\\\\n",
      "\\\\\n",
      "\\\\\n",
      "\\\\\n",
      "\\\\\n",
      "\\\\\n",
      "\\\\\n",
      "\\hline\n",
      "\\end{tabular}\n",
      "\n",
      "\\begin{tabular}{|c|c|c|c|c|c|}\n",
      "\\hline\n",
      "\\\\\n",
      "\\\\\n",
      "\\\\\n",
      "\\\\\n",
      "\\\\\n",
      "\\\\\n",
      "\\\\\n",
      "\\\\\n",
      "\\\\\n",
      "\\\\\n",
      "\\hline\n",
      "\\end{tabular}\n",
      "\n",
      "\\end{center}\n",
      "[['jesus' 'space' 'health' 'file']\n",
      " ['god' 'launch' 'hiv' 'gun']\n",
      " ['atheists' 'satellite' '1993' 'congress']\n",
      " ['atheism' 'commercial' 'use' 'control']\n",
      " ['people' 'market' 'medical' 'firearms']\n",
      " ['matthew' 'satellites' '10' 'mr']\n",
      " ['religious' 'data' 'aids' 'states']\n",
      " ['religion' 'year' 'number' 'united']\n",
      " ['does' 'nasa' '20' 'rkba']\n",
      " ['believe' 'new' 'april' 'house']]\n"
     ]
    }
   ],
   "source": [
    "print_top_words_table(M_svtd, omega_svtd,10,4, id2word)"
   ]
  },
  {
   "cell_type": "code",
   "execution_count": null,
   "id": "735ee7ab",
   "metadata": {},
   "outputs": [],
   "source": []
  }
 ],
 "metadata": {
  "kernelspec": {
   "display_name": "Python 3 (ipykernel)",
   "language": "python",
   "name": "python3"
  },
  "language_info": {
   "codemirror_mode": {
    "name": "ipython",
    "version": 3
   },
   "file_extension": ".py",
   "mimetype": "text/x-python",
   "name": "python",
   "nbconvert_exporter": "python",
   "pygments_lexer": "ipython3",
   "version": "3.8.2"
  }
 },
 "nbformat": 4,
 "nbformat_minor": 5
}
