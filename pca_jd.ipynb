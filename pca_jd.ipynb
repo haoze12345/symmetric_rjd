{
 "cells": [
  {
   "cell_type": "code",
   "execution_count": 1,
   "id": "ecb63162",
   "metadata": {},
   "outputs": [],
   "source": [
    "from time import time\n",
    "import numpy as np\n",
    "from other_jd_algorithms import *\n",
    "from rjd import *"
   ]
  },
  {
   "cell_type": "code",
   "execution_count": 2,
   "id": "e0ab90a4",
   "metadata": {},
   "outputs": [],
   "source": [
    "import numpy as np\n",
    "import matplotlib.pyplot as plt\n",
    "import math\n",
    "from sklearn.decomposition import PCA\n",
    "from experiments_util import *"
   ]
  },
  {
   "cell_type": "code",
   "execution_count": 71,
   "id": "0d34c189",
   "metadata": {},
   "outputs": [],
   "source": [
    "n = 10\n",
    "p = 10\n",
    "diagonals = np.random.uniform(size=(n, p))\n",
    "A = np.random.randn(p, p)\n",
    "Q, R = np.linalg.qr(A)# mixing matrix\n",
    "C = np.array([Q.dot(d[:, None] * Q.T) for d in diagonals])  # dataset\n",
    "test_array = random_error(C,1e-10)"
   ]
  },
  {
   "cell_type": "code",
   "execution_count": 81,
   "id": "49c1f0bf",
   "metadata": {},
   "outputs": [
    {
     "name": "stdout",
     "output_type": "stream",
     "text": [
      "4.071072196616464e-09\n",
      "[[3.91902177e-01 5.28194422e-01 9.38441269e-01 3.56243515e-01\n",
      "  3.24474081e-02 7.66931643e-01 9.64467015e-01 6.32355795e-01\n",
      "  8.37318044e-01 1.46997975e-01]\n",
      " [6.01257260e-01 8.01339698e-01 9.13465874e-01 2.72742450e-02\n",
      "  9.31947009e-01 5.62412538e-02 7.84041721e-01 1.56339049e-01\n",
      "  9.39468236e-01 9.84436941e-01]\n",
      " [3.42602840e-01 1.43461473e-01 9.14086367e-01 3.86686903e-01\n",
      "  2.63327665e-01 6.49252773e-01 6.56771518e-01 2.70674109e-01\n",
      "  8.61380027e-01 1.95305844e-02]\n",
      " [5.43006714e-02 1.81418902e-02 3.36069012e-01 7.37309661e-01\n",
      "  2.62721275e-01 5.78850851e-01 6.23323689e-01 3.50484045e-01\n",
      "  8.78121558e-01 9.82678636e-04]\n",
      " [9.50800089e-01 7.96303836e-01 2.41099330e-01 6.64158799e-01\n",
      "  6.44431075e-01 8.36224131e-01 8.17376772e-01 4.98111001e-01\n",
      "  4.85026283e-01 8.17580724e-01]\n",
      " [9.14371417e-01 1.75340603e-01 9.10845210e-01 3.16291336e-01\n",
      "  3.56498174e-01 1.78462046e-01 2.75624236e-01 8.02628347e-01\n",
      "  8.02324348e-01 7.73916694e-01]\n",
      " [4.04621401e-01 7.73524377e-01 6.13415381e-01 6.19584733e-01\n",
      "  8.43288992e-01 1.14953779e-01 8.87293254e-01 4.50738570e-01\n",
      "  5.75399713e-01 1.64706818e-01]\n",
      " [2.33056422e-01 6.58569802e-01 1.47348334e-01 7.95425469e-01\n",
      "  3.40133670e-01 6.12141060e-01 8.36265769e-01 5.96045927e-01\n",
      "  4.51836968e-01 1.28616676e-01]\n",
      " [7.32718727e-01 1.83464912e-01 5.91345271e-01 1.75372582e-01\n",
      "  6.65403127e-01 1.76063793e-01 5.23295448e-01 8.68755177e-01\n",
      "  6.04762843e-01 1.51250199e-01]\n",
      " [4.64293682e-01 7.29230593e-01 2.89816921e-01 9.11986257e-02\n",
      "  8.80849514e-01 4.21658980e-01 1.81740192e-01 3.79868687e-01\n",
      "  8.02637361e-01 2.15567144e-01]]\n",
      "[-0.09016794  0.18728876 -0.2291026   0.07469302  0.26110533 -0.21986342\n",
      " -0.69023984  0.25671451 -0.42772079 -0.23860269]\n",
      "[ 0.39669479  0.26322758  0.17150139 -0.33406412  0.42275046 -0.33725083\n",
      " -0.12757932 -0.02478707  0.03570986  0.56719553] 0.9999999999999997\n",
      "6.340978899873359e-10\n"
     ]
    }
   ],
   "source": [
    "mu = np.random.normal(0,1,n)\n",
    "mu = mu / np.linalg.norm(mu)\n",
    "A_mu = np.einsum('ijk,i->jk',test_array, mu)\n",
    "_, Q = np.linalg.eigh(A_mu)\n",
    "error = math.sqrt(offdiagonal_frobenius_square(Q.T @ test_array @ Q))\n",
    "print(error)\n",
    "eigen_vals = Q.T @ test_array @ Q\n",
    "diagonals = np.array([ np.diag(diagonal) for diagonal in Q.T @ test_array @ Q]).T\n",
    "print(diagonals)\n",
    "X = diagonals\n",
    "pca=PCA(10)\n",
    "pca.fit(X)\n",
    "mu_best = pca.components_[0]\n",
    "print(mu)\n",
    "print(mu_best,  np.linalg.norm(mu_best))\n",
    "A_mu = np.einsum('ijk,i->jk',test_array, mu_best)\n",
    "_, Q = np.linalg.eigh(A_mu)\n",
    "error = math.sqrt(offdiagonal_frobenius_square(Q.T @ test_array @ Q))\n",
    "print(error)"
   ]
  },
  {
   "cell_type": "code",
   "execution_count": null,
   "id": "d6feee01",
   "metadata": {},
   "outputs": [],
   "source": []
  }
 ],
 "metadata": {
  "kernelspec": {
   "display_name": "Python 3 (ipykernel)",
   "language": "python",
   "name": "python3"
  },
  "language_info": {
   "codemirror_mode": {
    "name": "ipython",
    "version": 3
   },
   "file_extension": ".py",
   "mimetype": "text/x-python",
   "name": "python",
   "nbconvert_exporter": "python",
   "pygments_lexer": "ipython3",
   "version": "3.8.2"
  }
 },
 "nbformat": 4,
 "nbformat_minor": 5
}
